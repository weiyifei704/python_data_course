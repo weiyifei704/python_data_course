{
 "cells": [
  {
   "cell_type": "code",
   "execution_count": 1,
   "id": "initial_id",
   "metadata": {
    "collapsed": true,
    "ExecuteTime": {
     "end_time": "2024-07-04T02:49:31.609226Z",
     "start_time": "2024-07-04T02:49:20.405220Z"
    }
   },
   "outputs": [
    {
     "data": {
      "text/plain": "'当然可以，以下是我为您的彩色袜子公司提出的五个中文名字建议：\\n\\n1. 彩韵袜业：这个名字融合了“色彩”和“韵律”的概念，暗示了袜子的多彩和时尚感。\\n2. 飞彩足下：寓意袜子如彩虹般绚丽，为双脚增添活力与乐趣。\\n3. 明彩袜坊：明快的色彩，手工的艺术，表达出产品的质量和个性。\\n4. 舒彩履梦：强调舒适度的同时，也表达了穿上这些袜子如同实现梦想般的美好。\\n5. 彩织生活：体现出袜子是日常生活的一部分，且充满色彩，富有生活气息。\\n\\n希望这些建议能对您有所帮助！如果您需要更多的选择或者有特定的要求，欢迎继续告诉我。'"
     },
     "execution_count": 1,
     "metadata": {},
     "output_type": "execute_result"
    }
   ],
   "source": [
    "from langchain_core.runnables import RunnablePassthrough\n",
    "from langchain.prompts import ChatPromptTemplate\n",
    "from langchain_community.llms import Tongyi\n",
    "\n",
    "llm = Tongyi(temperature=0.7)\n",
    "\n",
    "template = \"\"\"我希望你能充当新公司的命名顾问。一个生产{product}的公司好的中文名字是什么,请给出五个选项？\"\"\"\n",
    "prompt = ChatPromptTemplate.from_template(template)\n",
    "chain = (\n",
    "        {\"product\": RunnablePassthrough()}\n",
    "        | prompt\n",
    "        | llm\n",
    ")\n",
    "chain.invoke(\"彩色袜子\")"
   ]
  },
  {
   "cell_type": "code",
   "outputs": [],
   "source": [
    "from langchain_community.llms import Tongyi\n",
    "\n",
    "llm = Tongyi(temperature=0.7)"
   ],
   "metadata": {
    "collapsed": false,
    "ExecuteTime": {
     "end_time": "2024-07-04T06:31:15.464512Z",
     "start_time": "2024-07-04T06:31:15.459672Z"
    }
   },
   "id": "c229f8851380b66c",
   "execution_count": 4
  },
  {
   "cell_type": "code",
   "outputs": [
    {
     "data": {
      "text/plain": "['泰山', '黄山', '衡山', '华山', '嵩山']"
     },
     "execution_count": 6,
     "metadata": {},
     "output_type": "execute_result"
    }
   ],
   "source": [
    "from langchain.output_parsers import CommaSeparatedListOutputParser\n",
    "from langchain.prompts import PromptTemplate\n",
    "from langchain_community.chat_models.tongyi import ChatTongyi\n",
    "\n",
    "model = ChatTongyi()\n",
    "\n",
    "output_parser = CommaSeparatedListOutputParser()\n",
    "format_instructions = output_parser.get_format_instructions()\n",
    "\n",
    "prompt2 = PromptTemplate(\n",
    "    template=\"请列出五个 {subject}.\\n{format_instructions}\",\n",
    "    input_variables=[\"subject\"],\n",
    "    partial_variables={\"format_instructions\": format_instructions}\n",
    ")\n",
    "chain2 = prompt2 | llm | output_parser\n",
    "\n",
    "chain2.invoke(\"中国的名山\")"
   ],
   "metadata": {
    "collapsed": false,
    "ExecuteTime": {
     "end_time": "2024-07-04T06:31:35.215887Z",
     "start_time": "2024-07-04T06:31:33.838640Z"
    }
   },
   "id": "a1f2dcf30fd4df22",
   "execution_count": 6
  },
  {
   "cell_type": "code",
   "outputs": [],
   "source": [
    "from langchain.prompts import ChatPromptTemplate\n",
    "from langchain_core.output_parsers import StrOutputParser\n",
    "from langchain_core.runnables import RunnablePassthrough\n",
    "from langchain.vectorstores import Chroma\n",
    "from langchain_community.embeddings import SentenceTransformerEmbeddings\n",
    "from langchain_community.chat_models.tongyi import ChatTongyi\n",
    "\n",
    "embedding = SentenceTransformerEmbeddings(model_name='D:\\workspace\\project\\LLM\\models\\m3e-base')\n",
    "\n",
    "vectorstore = Chroma.from_texts(\n",
    "    [\"小明在华为工作\"], embedding=embedding\n",
    ")\n",
    "retriever = vectorstore.as_retriever()\n",
    "template = \"\"\"仅根据以下上下文回答问题：\n",
    "{context}\n",
    "\n",
    "问题：{question}\n",
    "\"\"\"\n",
    "prompt = ChatPromptTemplate.from_template(template)\n",
    "model = ChatTongyi()\n",
    "\n",
    "retrieval_chain = (\n",
    "        {\"context\": retriever, \"question\": RunnablePassthrough()}\n",
    "        | prompt\n",
    "        | model\n",
    "        | StrOutputParser()\n",
    ")"
   ],
   "metadata": {
    "collapsed": false,
    "ExecuteTime": {
     "end_time": "2024-07-04T06:01:36.226100Z",
     "start_time": "2024-07-04T06:01:35.243432Z"
    }
   },
   "id": "a9c3349d28682dae",
   "execution_count": 10
  },
  {
   "cell_type": "code",
   "outputs": [
    {
     "name": "stderr",
     "output_type": "stream",
     "text": [
      "Number of requested results 4 is greater than number of elements in index 2, updating n_results = 2\n"
     ]
    },
    {
     "data": {
      "text/plain": "'根据提供的上下文，无法回答小强在哪里工作的问题，因为只有关于小明在华为工作的信息。'"
     },
     "execution_count": 11,
     "metadata": {},
     "output_type": "execute_result"
    }
   ],
   "source": [
    "retrieval_chain.invoke(\"小强在哪里工作？\")"
   ],
   "metadata": {
    "collapsed": false,
    "ExecuteTime": {
     "end_time": "2024-07-04T06:01:49.177649Z",
     "start_time": "2024-07-04T06:01:46.945998Z"
    }
   },
   "id": "57d2d9825bef8c14",
   "execution_count": 11
  },
  {
   "cell_type": "code",
   "outputs": [
    {
     "name": "stderr",
     "output_type": "stream",
     "text": [
      "D:\\Program\\anaconda3\\Lib\\site-packages\\langchain_core\\_api\\deprecation.py:139: LangChainDeprecationWarning: The class `HuggingFaceEmbeddings` was deprecated in LangChain 0.2.2 and will be removed in 0.3.0. An updated version of the class exists in the langchain-huggingface package and should be used instead. To use it run `pip install -U langchain-huggingface` and import as `from langchain_huggingface import HuggingFaceEmbeddings`.\n",
      "  warn_deprecated(\n",
      "D:\\Program\\anaconda3\\Lib\\site-packages\\sentence_transformers\\cross_encoder\\CrossEncoder.py:11: TqdmExperimentalWarning: Using `tqdm.autonotebook.tqdm` in notebook mode. Use `tqdm.tqdm` instead to force console mode (e.g. in jupyter console)\n",
      "  from tqdm.autonotebook import tqdm, trange\n"
     ]
    }
   ],
   "source": [
    "from langchain_community.llms import Tongyi\n",
    "\n",
    "llm = Tongyi(temperature=0.7)\n",
    "\n",
    "from langchain.prompts import ChatPromptTemplate\n",
    "\n",
    "prompt = ChatPromptTemplate.from_template(\"\"\"使用下面的语料来回答本模板最末尾的问题。如果你不知道问题的答案，直接回答 \"我不知道\"，禁止随意编造答案。\n",
    "        为了保证答案尽可能简洁，你的回答必须不超过三句话，你的回答中不可以带有星号。\n",
    "        请注意！在每次回答结束之后，你都必须接上 \"感谢你的提问\" 作为结束语\n",
    "        以下是一对问题和答案的样例：\n",
    "            请问：秦始皇的原名是什么\n",
    "            秦始皇原名嬴政。感谢你的提问。\n",
    "        \n",
    "        以下是语料：\n",
    "<context>\n",
    "{context}\n",
    "</context>\n",
    "\n",
    "Question: {input}\"\"\")\n",
    "\n",
    "from langchain.document_loaders import TextLoader\n",
    "\n",
    "loader_txt = TextLoader(r'D:\\workspace\\project\\learn-project\\python_data_course\\大模型产品开发导论\\云岚宗.txt',\n",
    "                        encoding='utf8')\n",
    "docs_txt = loader_txt.load()\n",
    "from langchain.text_splitter import RecursiveCharacterTextSplitter\n",
    "\n",
    "text_splitter = RecursiveCharacterTextSplitter(chunk_size=384, chunk_overlap=0,\n",
    "                                               separators=[\"\\n\\n\", \"\\n\", \" \", \"\", \"。\", \"，\"])\n",
    "docs_prepared = text_splitter.split_documents(docs_txt)\n",
    "from langchain.embeddings import SentenceTransformerEmbeddings\n",
    "\n",
    "embedding = SentenceTransformerEmbeddings(model_name='D:\\workspace\\project\\LLM\\models\\m3e-base')\n",
    "from langchain.vectorstores import Chroma\n",
    "\n",
    "vectordb = Chroma.from_documents(documents=docs_prepared, embedding=embedding)\n",
    "retriever = vectordb.as_retriever()\n",
    "#创建检索链\n",
    "from langchain.chains.combine_documents import create_stuff_documents_chain\n",
    "\n",
    "document_chain = create_stuff_documents_chain(llm, prompt)\n",
    "from langchain.chains import create_retrieval_chain\n",
    "\n",
    "retrieval_chain = create_retrieval_chain(retriever, document_chain)\n",
    "\n"
   ],
   "metadata": {
    "collapsed": false,
    "ExecuteTime": {
     "end_time": "2024-07-04T06:46:55.425696Z",
     "start_time": "2024-07-04T06:46:43.347514Z"
    }
   },
   "id": "a4205d7bdf617967",
   "execution_count": 8
  },
  {
   "cell_type": "code",
   "outputs": [
    {
     "name": "stdout",
     "output_type": "stream",
     "text": [
      "纳兰桀是加玛帝国狮心元帅，纳兰嫣然的祖父。感谢你的提问。\n"
     ]
    }
   ],
   "source": [
    "response = retrieval_chain.invoke({\n",
    "    \"input\": \"纳兰桀是谁?\"\n",
    "})\n",
    "print(response[\"answer\"])"
   ],
   "metadata": {
    "collapsed": false,
    "ExecuteTime": {
     "end_time": "2024-07-04T06:47:04.134030Z",
     "start_time": "2024-07-04T06:47:01.622807Z"
    }
   },
   "id": "c9809a7bfcf46f06",
   "execution_count": 9
  },
  {
   "cell_type": "code",
   "outputs": [
    {
     "data": {
      "text/plain": "'纳兰桀是纳兰嫣然的祖父，他在家族中有绝对的话语权。感谢你的提问。'"
     },
     "execution_count": 13,
     "metadata": {},
     "output_type": "execute_result"
    }
   ],
   "source": [
    "from langchain_core.runnables import RunnablePassthrough\n",
    "\n",
    "chain2 = ({\"input\": RunnablePassthrough(), \"context\": retriever} | prompt | llm)\n",
    "chain2.invoke(\"纳兰桀是谁?\")"
   ],
   "metadata": {
    "collapsed": false,
    "ExecuteTime": {
     "end_time": "2024-07-04T06:52:43.351845Z",
     "start_time": "2024-07-04T06:52:40.854590Z"
    }
   },
   "id": "89182e1163c57b4b",
   "execution_count": 13
  },
  {
   "cell_type": "code",
   "outputs": [],
   "source": [],
   "metadata": {
    "collapsed": false,
    "ExecuteTime": {
     "end_time": "2024-07-04T06:52:43.356565Z",
     "start_time": "2024-07-04T06:52:43.353851Z"
    }
   },
   "id": "e7c87b076c5b00b",
   "execution_count": 13
  },
  {
   "cell_type": "markdown",
   "source": [
    "### classwork 2\n",
    "\n",
    "* 注册聚合数据账号账号并申请万年历api接口，尝试在python中调用接口，相关指导视频如下：\n",
    "    https://www.juhe.cn/\n",
    "\n",
    "* 基于此接口封装一个自定义工具\n",
    "\n",
    "* 基于此工具完成一个农历休假顾问的代理应用"
   ],
   "metadata": {
    "collapsed": false
   },
   "id": "79590b48cb589858"
  },
  {
   "cell_type": "code",
   "outputs": [],
   "source": [
    "from langchain.chat_models.tongyi import ChatTongyi\n",
    "from langchain.prompts import ChatPromptTemplate\n",
    "from langchain.tools import tool\n",
    "from langchain_core.output_parsers import JsonOutputParser, StrOutputParser\n",
    "from langchain_core.runnables import RunnablePassthrough\n",
    "from operator import itemgetter\n",
    "import requests\n",
    "import json\n",
    "\n",
    "model = ChatTongyi()"
   ],
   "metadata": {
    "collapsed": false,
    "ExecuteTime": {
     "end_time": "2024-07-08T06:39:51.156649Z",
     "start_time": "2024-07-08T06:39:50.248256Z"
    }
   },
   "id": "db875562cba4c9e6",
   "execution_count": 6
  },
  {
   "cell_type": "code",
   "outputs": [],
   "source": [
    "@tool\n",
    "def wannianli(date: str) -> dict:\n",
    "    \"\"\"定日期查询当日的星期、星座、农历、生肖、天干地支、岁次、黄历相关的福神、喜神、宜忌等信息，可以进行阴阳历转换。\"\"\"\n",
    "    date = date.replace(\"-0\", \"-\")\n",
    "    headers = {'Content-Type': 'application/x-www-form-urlencoded'}\n",
    "    url = \"http://v.juhe.cn/calendar/day\"\n",
    "    params = {\n",
    "        \"key\": \"43d6c167a771d2d32a139283c9cf9648\",  # 在个人中心->我的数据,接口名称上方查看\n",
    "        \"date\": date,  # 要查询的城市名称或城市ID\n",
    "    }\n",
    "    resp = requests.get(url, params, headers=headers)\n",
    "    resp_json = json.loads(resp.text)\n",
    "    return resp_json"
   ],
   "metadata": {
    "collapsed": false,
    "ExecuteTime": {
     "end_time": "2024-07-08T06:39:52.865647Z",
     "start_time": "2024-07-08T06:39:52.856433Z"
    }
   },
   "id": "ba8a73e69dda09f6",
   "execution_count": 7
  },
  {
   "cell_type": "code",
   "outputs": [],
   "source": [
    "from langchain.tools.render import render_text_description\n",
    "import time\n",
    "\n",
    "# 获取当前日期\n",
    "current_date = time.strftime(\"%Y-%m-%d\", time.localtime())\n",
    "rendered_tools = render_text_description([wannianli])\n",
    "\n",
    "system_prompt_template = f\"\"\"您是一名助理，可以使用以下工具集。 以下是每个工具的名称和说明:\n",
    "\n",
    "{rendered_tools}\n",
    "\n",
    "今天是{current_date},根据用户输入，返回要使用的工具的名称和输入。 \n",
    "将你的响应组织为带有'name'和'arguments'键的 JSON blob 格式返回。\n",
    "JSON blob的格式要求：\n",
    "    1.“arguments”键对应的值应该是所选函数的输入参数。\n",
    "    2.json里不要有任何说明。\n",
    "    3.此JSON blob必须是如下格式示例：```json...```\n",
    "\"\"\"\n",
    "system_prompt = ChatPromptTemplate.from_messages(\n",
    "    [(\"system\", system_prompt_template), (\"user\", \"{input}\")]\n",
    ")"
   ],
   "metadata": {
    "collapsed": false,
    "ExecuteTime": {
     "end_time": "2024-07-08T06:55:15.370181Z",
     "start_time": "2024-07-08T06:55:15.364893Z"
    }
   },
   "id": "b11f4db9f05ec28d",
   "execution_count": 25
  },
  {
   "cell_type": "code",
   "outputs": [],
   "source": [
    "chain_ = ({\"input\": RunnablePassthrough()} \n",
    "          | system_prompt \n",
    "          | model \n",
    "          | JsonOutputParser() )"
   ],
   "metadata": {
    "collapsed": false,
    "ExecuteTime": {
     "end_time": "2024-07-08T06:58:02.661325Z",
     "start_time": "2024-07-08T06:58:02.656953Z"
    }
   },
   "id": "da0de5e0d3770363",
   "execution_count": 31
  },
  {
   "cell_type": "code",
   "outputs": [],
   "source": [
    "chain0 = ({\"input\": RunnablePassthrough()} \n",
    "          | system_prompt \n",
    "          | model \n",
    "          | JsonOutputParser() \n",
    "          | itemgetter(\"arguments\") \n",
    "          | wannianli\n",
    "          )"
   ],
   "metadata": {
    "collapsed": false,
    "ExecuteTime": {
     "end_time": "2024-07-08T06:55:17.536942Z",
     "start_time": "2024-07-08T06:55:17.531628Z"
    }
   },
   "id": "2bf0cd803cd23553",
   "execution_count": 26
  },
  {
   "cell_type": "code",
   "outputs": [
    {
     "data": {
      "text/plain": "{'reason': 'Success',\n 'result': {'data': {'animalsYear': '龙',\n   'weekday': '星期一',\n   'lunarYear': '甲辰年',\n   'lunar': '六月初三',\n   'year-month': '2024-7',\n   'date': '2024-7-8',\n   'suit': '结婚.出行.开业.安床.安葬.入殓.迁坟',\n   'avoid': '动土.祈福.破土',\n   'holiday': '',\n   'desc': ''}},\n 'error_code': 0}"
     },
     "execution_count": 16,
     "metadata": {},
     "output_type": "execute_result"
    }
   ],
   "source": [
    "chain0.invoke(\"本周五是农历多少号？\")"
   ],
   "metadata": {
    "collapsed": false,
    "ExecuteTime": {
     "end_time": "2024-07-08T06:43:11.299722Z",
     "start_time": "2024-07-08T06:43:09.712256Z"
    }
   },
   "id": "901f14a2232826e3",
   "execution_count": 16
  },
  {
   "cell_type": "code",
   "outputs": [],
   "source": [
    "response_template = \"\"\"根据下面问题和json格式的响应，编写一个针对此问题自然语言回应：\n",
    "问题：{question}\n",
    "响应：{response}\"\"\"\n",
    "response_prompt = ChatPromptTemplate.from_template(response_template)\n",
    "\n",
    "chain1 = ({\"question\": RunnablePassthrough(), \"response\": chain0} \n",
    "          | response_prompt \n",
    "          | model \n",
    "          | StrOutputParser()\n",
    "          )"
   ],
   "metadata": {
    "collapsed": false,
    "ExecuteTime": {
     "end_time": "2024-07-08T06:56:18.890190Z",
     "start_time": "2024-07-08T06:56:18.885089Z"
    }
   },
   "id": "b43bd0e8cb58c1d8",
   "execution_count": 28
  },
  {
   "cell_type": "code",
   "outputs": [
    {
     "data": {
      "text/plain": "'本周日是农历六月初三，属于甲辰年。在中国传统的干支纪年体系中，今年是龙年。这一天适宜结婚、出行、开业、安床、安葬和入殓等活动，但需避免动土和祈福等可能会影响土地或祖先的仪式，以及破土行为。日期是2024年7月8日。'"
     },
     "execution_count": 30,
     "metadata": {},
     "output_type": "execute_result"
    }
   ],
   "source": [
    "chain1.invoke(\"本周日是农历多少号？\")"
   ],
   "metadata": {
    "collapsed": false,
    "ExecuteTime": {
     "end_time": "2024-07-08T06:57:06.980735Z",
     "start_time": "2024-07-08T06:57:02.405409Z"
    }
   },
   "id": "c6207e4fd3dc1151",
   "execution_count": 30
  },
  {
   "cell_type": "code",
   "outputs": [
    {
     "data": {
      "text/plain": "'本周三是农历六月初五，属龙年甲辰年。这是一个适合搬家、签订合同等活动的好日子，但需避免结婚、买房和栽种等事宜。具体的日期是2024年7月10日。'"
     },
     "execution_count": 34,
     "metadata": {},
     "output_type": "execute_result"
    }
   ],
   "source": [
    "chain1.invoke(\"本周三是农历多少号？\")"
   ],
   "metadata": {
    "collapsed": false,
    "ExecuteTime": {
     "end_time": "2024-07-08T07:02:27.499401Z",
     "start_time": "2024-07-08T07:02:23.143494Z"
    }
   },
   "id": "e13ab2e2d373c89e",
   "execution_count": 34
  },
  {
   "cell_type": "code",
   "outputs": [],
   "source": [],
   "metadata": {
    "collapsed": false
   },
   "id": "bb6339149977a833"
  }
 ],
 "metadata": {
  "kernelspec": {
   "display_name": "Python 3",
   "language": "python",
   "name": "python3"
  },
  "language_info": {
   "codemirror_mode": {
    "name": "ipython",
    "version": 2
   },
   "file_extension": ".py",
   "mimetype": "text/x-python",
   "name": "python",
   "nbconvert_exporter": "python",
   "pygments_lexer": "ipython2",
   "version": "2.7.6"
  }
 },
 "nbformat": 4,
 "nbformat_minor": 5
}
