{
 "cells": [
  {
   "cell_type": "markdown",
   "source": [
    "## 多工具并行使用"
   ],
   "metadata": {
    "collapsed": false
   },
   "id": "18cf779e44752ec9"
  },
  {
   "cell_type": "code",
   "outputs": [],
   "source": [
    "from langchain.tools import tool\n",
    "import json\n",
    "import requests\n",
    "\n",
    "\n",
    "@tool\n",
    "def add(first_int: int, second_int: int) -> int:\n",
    "    \"将两个整数相加。\"\n",
    "    return first_int + second_int\n",
    "\n",
    "\n",
    "@tool\n",
    "def exponentiate(base: int, exponent: int) -> int:\n",
    "    \"对底数求指数幂。\"\n",
    "    return base ** exponent\n",
    "\n",
    "\n",
    "@tool\n",
    "def multiply(first_int: int, second_int: int) -> int:\n",
    "    \"\"\"将两个整数相乘。\"\"\"\n",
    "    return first_int * second_int\n",
    "\n",
    "\n",
    "@tool\n",
    "def divide(first_int: int, second_int: int) -> float:\n",
    "    \"\"\"将两个整数相除。\"\"\"\n",
    "    return first_int / second_int\n",
    "\n",
    "\n",
    "@tool\n",
    "def wannianli(date: str) -> dict:\n",
    "    \"根据指定日期查询其农历，习俗，星期几，假期，生肖\"\n",
    "    date = date.replace(\"-0\", \"-\")\n",
    "    print(date)\n",
    "    headers = {\"Content-Type\": \"application/x-www-form-urlencoded\"}\n",
    "    url = \"http://v.juhe.cn/calendar/day\"\n",
    "    params = {\n",
    "        \"key\": \"43d6c167a771d2d32a139283c9cf9648\",  # 在个人中心->我的数据,接口名称上方查看\n",
    "        \"date\": date,  # 指定日期,格式为YYYY-MM-DD,如月份和日期小于10,则取个位,如:2012-1-1\n",
    "    }\n",
    "    resp = requests.get(url, params, headers=headers)\n",
    "    resp_json = json.loads(resp.text)\n",
    "    return resp_json\n",
    "\n",
    "\n",
    "@tool\n",
    "def tianqi(city: str) -> dict:\n",
    "    \"\"\"查询最近几日的天气情况，包括温度，天气，湿度，风向等\"\"\"\n",
    "    headers = {\"Content-Type\": \"application/x-www-form-urlencoded\"}\n",
    "    url = \"http://apis.juhe.cn/simpleWeather/query\"\n",
    "    params = {\n",
    "        \"key\": \"395bac783edef3f02663bbb491a060a6\",  # 在个人中心->我的数据,接口名称上方查看\n",
    "        \"city\": city,  # 要查询的城市名称或城市ID\n",
    "    }\n",
    "    resp = requests.get(url, params, headers=headers)\n",
    "    resp_json = json.loads(resp.text)\n",
    "    return resp_json"
   ],
   "metadata": {
    "collapsed": false,
    "ExecuteTime": {
     "end_time": "2024-07-15T09:01:28.789179Z",
     "start_time": "2024-07-15T09:01:28.768439Z"
    }
   },
   "id": "a2a6701a9c145d4f",
   "execution_count": 25
  },
  {
   "cell_type": "code",
   "outputs": [],
   "source": [
    "tools: [tool] = [add, exponentiate, multiply, divide, tianqi, wannianli]"
   ],
   "metadata": {
    "collapsed": false,
    "ExecuteTime": {
     "end_time": "2024-07-15T09:01:40.175501Z",
     "start_time": "2024-07-15T09:01:40.169378Z"
    }
   },
   "id": "ee061500909263a4",
   "execution_count": 26
  },
  {
   "cell_type": "code",
   "outputs": [],
   "source": [
    "import time\n",
    "from langchain.tools.render import render_text_description\n",
    "from langchain.prompts.chat import ChatPromptTemplate\n",
    "\n",
    "current_date = time.strftime(\"%Y-%m-%d\", time.localtime())\n",
    "rendered_tools = render_text_description(tools)\n",
    "\n",
    "system_prompt = f\"\"\"您是一名助理，可以使用以下工具集。 以下是每个工具的名称和说明:\n",
    "\n",
    "{rendered_tools}\n",
    "\n",
    "今天是{current_date},根据用户输入，返回解决用户问题所需的所有工具的名称和输入，按照执行顺序。\n",
    "将您的响应作为多个带有'name'和'arguments'键的 JSON blob 返回，“arguments”键对应的值应该是所选函数的输入参数的字典，字典里不要有任何说明。\n",
    "此JSON blob必须是如下格式：```json...```\n",
    "\"\"\"\n",
    "\n",
    "prompt = ChatPromptTemplate.from_messages(\n",
    "    [(\"system\", system_prompt), (\"user\", \"{input}\")]\n",
    ")"
   ],
   "metadata": {
    "collapsed": false,
    "ExecuteTime": {
     "end_time": "2024-07-15T09:08:01.506149Z",
     "start_time": "2024-07-15T09:08:01.498113Z"
    }
   },
   "id": "6076d5017086e4a8",
   "execution_count": 30
  },
  {
   "cell_type": "code",
   "outputs": [],
   "source": [
    "from langchain.chat_models.tongyi import ChatTongyi\n",
    "from langchain_core.output_parsers import JsonOutputParser, StrOutputParser\n",
    "from langchain_core.runnables import RunnablePassthrough\n",
    "\n",
    "model = ChatTongyi()\n",
    "chain_ = {\"input\": RunnablePassthrough()} | prompt | model | JsonOutputParser()"
   ],
   "metadata": {
    "collapsed": false,
    "ExecuteTime": {
     "end_time": "2024-07-15T09:15:04.522840Z",
     "start_time": "2024-07-15T09:15:04.518321Z"
    }
   },
   "id": "525ca923f6f0486f",
   "execution_count": 33
  },
  {
   "cell_type": "code",
   "outputs": [],
   "source": [
    "chain_.invoke({\"input\": \"3加上1234等于几？明天是农历几号，杭州天气怎样\"})"
   ],
   "metadata": {
    "collapsed": false
   },
   "id": "8251842b390b41a4"
  },
  {
   "cell_type": "code",
   "outputs": [
    {
     "ename": "OutputParserException",
     "evalue": "Invalid json output: ```json\n[\n    {\n        \"name\": \"add\",\n        \"arguments\": {\"first_int\": 3, \"second_int\": 5}\n    },\n    {\n        \"name\": \"divide\",\n        \"arguments\": {\"first_int\": 8, \"second_int\": 2}\n    },\n    {\n        \"name\": \"multiply\",\n        \"arguments\": {\"first_int\": result_from_divide, \"second_int\": 8}\n    }\n]\n```\n请计算`result_from_divide`后继续执行。",
     "output_type": "error",
     "traceback": [
      "\u001B[1;31m---------------------------------------------------------------------------\u001B[0m",
      "\u001B[1;31mJSONDecodeError\u001B[0m                           Traceback (most recent call last)",
      "File \u001B[1;32mD:\\Program\\anaconda3\\Lib\\site-packages\\langchain_core\\output_parsers\\json.py:66\u001B[0m, in \u001B[0;36mJsonOutputParser.parse_result\u001B[1;34m(self, result, partial)\u001B[0m\n\u001B[0;32m     65\u001B[0m \u001B[38;5;28;01mtry\u001B[39;00m:\n\u001B[1;32m---> 66\u001B[0m     \u001B[38;5;28;01mreturn\u001B[39;00m parse_json_markdown(text)\n\u001B[0;32m     67\u001B[0m \u001B[38;5;28;01mexcept\u001B[39;00m JSONDecodeError \u001B[38;5;28;01mas\u001B[39;00m e:\n",
      "File \u001B[1;32mD:\\Program\\anaconda3\\Lib\\site-packages\\langchain_core\\utils\\json.py:147\u001B[0m, in \u001B[0;36mparse_json_markdown\u001B[1;34m(json_string, parser)\u001B[0m\n\u001B[0;32m    146\u001B[0m         json_str \u001B[38;5;241m=\u001B[39m match\u001B[38;5;241m.\u001B[39mgroup(\u001B[38;5;241m2\u001B[39m)\n\u001B[1;32m--> 147\u001B[0m \u001B[38;5;28;01mreturn\u001B[39;00m _parse_json(json_str, parser\u001B[38;5;241m=\u001B[39mparser)\n",
      "File \u001B[1;32mD:\\Program\\anaconda3\\Lib\\site-packages\\langchain_core\\utils\\json.py:160\u001B[0m, in \u001B[0;36m_parse_json\u001B[1;34m(json_str, parser)\u001B[0m\n\u001B[0;32m    159\u001B[0m \u001B[38;5;66;03m# Parse the JSON string into a Python dictionary\u001B[39;00m\n\u001B[1;32m--> 160\u001B[0m \u001B[38;5;28;01mreturn\u001B[39;00m parser(json_str)\n",
      "File \u001B[1;32mD:\\Program\\anaconda3\\Lib\\site-packages\\langchain_core\\utils\\json.py:120\u001B[0m, in \u001B[0;36mparse_partial_json\u001B[1;34m(s, strict)\u001B[0m\n\u001B[0;32m    117\u001B[0m \u001B[38;5;66;03m# If we got here, we ran out of characters to remove\u001B[39;00m\n\u001B[0;32m    118\u001B[0m \u001B[38;5;66;03m# and still couldn't parse the string as JSON, so return the parse error\u001B[39;00m\n\u001B[0;32m    119\u001B[0m \u001B[38;5;66;03m# for the original string.\u001B[39;00m\n\u001B[1;32m--> 120\u001B[0m \u001B[38;5;28;01mreturn\u001B[39;00m json\u001B[38;5;241m.\u001B[39mloads(s, strict\u001B[38;5;241m=\u001B[39mstrict)\n",
      "File \u001B[1;32mD:\\Program\\anaconda3\\Lib\\json\\__init__.py:359\u001B[0m, in \u001B[0;36mloads\u001B[1;34m(s, cls, object_hook, parse_float, parse_int, parse_constant, object_pairs_hook, **kw)\u001B[0m\n\u001B[0;32m    358\u001B[0m     kw[\u001B[38;5;124m'\u001B[39m\u001B[38;5;124mparse_constant\u001B[39m\u001B[38;5;124m'\u001B[39m] \u001B[38;5;241m=\u001B[39m parse_constant\n\u001B[1;32m--> 359\u001B[0m \u001B[38;5;28;01mreturn\u001B[39;00m \u001B[38;5;28mcls\u001B[39m(\u001B[38;5;241m*\u001B[39m\u001B[38;5;241m*\u001B[39mkw)\u001B[38;5;241m.\u001B[39mdecode(s)\n",
      "File \u001B[1;32mD:\\Program\\anaconda3\\Lib\\json\\decoder.py:337\u001B[0m, in \u001B[0;36mJSONDecoder.decode\u001B[1;34m(self, s, _w)\u001B[0m\n\u001B[0;32m    333\u001B[0m \u001B[38;5;250m\u001B[39m\u001B[38;5;124;03m\"\"\"Return the Python representation of ``s`` (a ``str`` instance\u001B[39;00m\n\u001B[0;32m    334\u001B[0m \u001B[38;5;124;03mcontaining a JSON document).\u001B[39;00m\n\u001B[0;32m    335\u001B[0m \n\u001B[0;32m    336\u001B[0m \u001B[38;5;124;03m\"\"\"\u001B[39;00m\n\u001B[1;32m--> 337\u001B[0m obj, end \u001B[38;5;241m=\u001B[39m \u001B[38;5;28mself\u001B[39m\u001B[38;5;241m.\u001B[39mraw_decode(s, idx\u001B[38;5;241m=\u001B[39m_w(s, \u001B[38;5;241m0\u001B[39m)\u001B[38;5;241m.\u001B[39mend())\n\u001B[0;32m    338\u001B[0m end \u001B[38;5;241m=\u001B[39m _w(s, end)\u001B[38;5;241m.\u001B[39mend()\n",
      "File \u001B[1;32mD:\\Program\\anaconda3\\Lib\\json\\decoder.py:355\u001B[0m, in \u001B[0;36mJSONDecoder.raw_decode\u001B[1;34m(self, s, idx)\u001B[0m\n\u001B[0;32m    354\u001B[0m \u001B[38;5;28;01mexcept\u001B[39;00m \u001B[38;5;167;01mStopIteration\u001B[39;00m \u001B[38;5;28;01mas\u001B[39;00m err:\n\u001B[1;32m--> 355\u001B[0m     \u001B[38;5;28;01mraise\u001B[39;00m JSONDecodeError(\u001B[38;5;124m\"\u001B[39m\u001B[38;5;124mExpecting value\u001B[39m\u001B[38;5;124m\"\u001B[39m, s, err\u001B[38;5;241m.\u001B[39mvalue) \u001B[38;5;28;01mfrom\u001B[39;00m \u001B[38;5;28;01mNone\u001B[39;00m\n\u001B[0;32m    356\u001B[0m \u001B[38;5;28;01mreturn\u001B[39;00m obj, end\n",
      "\u001B[1;31mJSONDecodeError\u001B[0m: Expecting value: line 12 column 36 (char 256)",
      "\nThe above exception was the direct cause of the following exception:\n",
      "\u001B[1;31mOutputParserException\u001B[0m                     Traceback (most recent call last)",
      "Cell \u001B[1;32mIn[34], line 1\u001B[0m\n\u001B[1;32m----> 1\u001B[0m chain_\u001B[38;5;241m.\u001B[39minvoke(\u001B[38;5;124m\"\u001B[39m\u001B[38;5;124m3加上5，除以2，乘以8\u001B[39m\u001B[38;5;124m\"\u001B[39m)\n",
      "File \u001B[1;32mD:\\Program\\anaconda3\\Lib\\site-packages\\langchain_core\\runnables\\base.py:2507\u001B[0m, in \u001B[0;36mRunnableSequence.invoke\u001B[1;34m(self, input, config, **kwargs)\u001B[0m\n\u001B[0;32m   2505\u001B[0m             \u001B[38;5;28minput\u001B[39m \u001B[38;5;241m=\u001B[39m step\u001B[38;5;241m.\u001B[39minvoke(\u001B[38;5;28minput\u001B[39m, config, \u001B[38;5;241m*\u001B[39m\u001B[38;5;241m*\u001B[39mkwargs)\n\u001B[0;32m   2506\u001B[0m         \u001B[38;5;28;01melse\u001B[39;00m:\n\u001B[1;32m-> 2507\u001B[0m             \u001B[38;5;28minput\u001B[39m \u001B[38;5;241m=\u001B[39m step\u001B[38;5;241m.\u001B[39minvoke(\u001B[38;5;28minput\u001B[39m, config)\n\u001B[0;32m   2508\u001B[0m \u001B[38;5;66;03m# finish the root run\u001B[39;00m\n\u001B[0;32m   2509\u001B[0m \u001B[38;5;28;01mexcept\u001B[39;00m \u001B[38;5;167;01mBaseException\u001B[39;00m \u001B[38;5;28;01mas\u001B[39;00m e:\n",
      "File \u001B[1;32mD:\\Program\\anaconda3\\Lib\\site-packages\\langchain_core\\output_parsers\\base.py:169\u001B[0m, in \u001B[0;36mBaseOutputParser.invoke\u001B[1;34m(self, input, config)\u001B[0m\n\u001B[0;32m    165\u001B[0m \u001B[38;5;28;01mdef\u001B[39;00m \u001B[38;5;21minvoke\u001B[39m(\n\u001B[0;32m    166\u001B[0m     \u001B[38;5;28mself\u001B[39m, \u001B[38;5;28minput\u001B[39m: Union[\u001B[38;5;28mstr\u001B[39m, BaseMessage], config: Optional[RunnableConfig] \u001B[38;5;241m=\u001B[39m \u001B[38;5;28;01mNone\u001B[39;00m\n\u001B[0;32m    167\u001B[0m ) \u001B[38;5;241m-\u001B[39m\u001B[38;5;241m>\u001B[39m T:\n\u001B[0;32m    168\u001B[0m     \u001B[38;5;28;01mif\u001B[39;00m \u001B[38;5;28misinstance\u001B[39m(\u001B[38;5;28minput\u001B[39m, BaseMessage):\n\u001B[1;32m--> 169\u001B[0m         \u001B[38;5;28;01mreturn\u001B[39;00m \u001B[38;5;28mself\u001B[39m\u001B[38;5;241m.\u001B[39m_call_with_config(\n\u001B[0;32m    170\u001B[0m             \u001B[38;5;28;01mlambda\u001B[39;00m inner_input: \u001B[38;5;28mself\u001B[39m\u001B[38;5;241m.\u001B[39mparse_result(\n\u001B[0;32m    171\u001B[0m                 [ChatGeneration(message\u001B[38;5;241m=\u001B[39minner_input)]\n\u001B[0;32m    172\u001B[0m             ),\n\u001B[0;32m    173\u001B[0m             \u001B[38;5;28minput\u001B[39m,\n\u001B[0;32m    174\u001B[0m             config,\n\u001B[0;32m    175\u001B[0m             run_type\u001B[38;5;241m=\u001B[39m\u001B[38;5;124m\"\u001B[39m\u001B[38;5;124mparser\u001B[39m\u001B[38;5;124m\"\u001B[39m,\n\u001B[0;32m    176\u001B[0m         )\n\u001B[0;32m    177\u001B[0m     \u001B[38;5;28;01melse\u001B[39;00m:\n\u001B[0;32m    178\u001B[0m         \u001B[38;5;28;01mreturn\u001B[39;00m \u001B[38;5;28mself\u001B[39m\u001B[38;5;241m.\u001B[39m_call_with_config(\n\u001B[0;32m    179\u001B[0m             \u001B[38;5;28;01mlambda\u001B[39;00m inner_input: \u001B[38;5;28mself\u001B[39m\u001B[38;5;241m.\u001B[39mparse_result([Generation(text\u001B[38;5;241m=\u001B[39minner_input)]),\n\u001B[0;32m    180\u001B[0m             \u001B[38;5;28minput\u001B[39m,\n\u001B[0;32m    181\u001B[0m             config,\n\u001B[0;32m    182\u001B[0m             run_type\u001B[38;5;241m=\u001B[39m\u001B[38;5;124m\"\u001B[39m\u001B[38;5;124mparser\u001B[39m\u001B[38;5;124m\"\u001B[39m,\n\u001B[0;32m    183\u001B[0m         )\n",
      "File \u001B[1;32mD:\\Program\\anaconda3\\Lib\\site-packages\\langchain_core\\runnables\\base.py:1599\u001B[0m, in \u001B[0;36mRunnable._call_with_config\u001B[1;34m(self, func, input, config, run_type, **kwargs)\u001B[0m\n\u001B[0;32m   1595\u001B[0m     context \u001B[38;5;241m=\u001B[39m copy_context()\n\u001B[0;32m   1596\u001B[0m     context\u001B[38;5;241m.\u001B[39mrun(_set_config_context, child_config)\n\u001B[0;32m   1597\u001B[0m     output \u001B[38;5;241m=\u001B[39m cast(\n\u001B[0;32m   1598\u001B[0m         Output,\n\u001B[1;32m-> 1599\u001B[0m         context\u001B[38;5;241m.\u001B[39mrun(\n\u001B[0;32m   1600\u001B[0m             call_func_with_variable_args,  \u001B[38;5;66;03m# type: ignore[arg-type]\u001B[39;00m\n\u001B[0;32m   1601\u001B[0m             func,  \u001B[38;5;66;03m# type: ignore[arg-type]\u001B[39;00m\n\u001B[0;32m   1602\u001B[0m             \u001B[38;5;28minput\u001B[39m,  \u001B[38;5;66;03m# type: ignore[arg-type]\u001B[39;00m\n\u001B[0;32m   1603\u001B[0m             config,\n\u001B[0;32m   1604\u001B[0m             run_manager,\n\u001B[0;32m   1605\u001B[0m             \u001B[38;5;241m*\u001B[39m\u001B[38;5;241m*\u001B[39mkwargs,\n\u001B[0;32m   1606\u001B[0m         ),\n\u001B[0;32m   1607\u001B[0m     )\n\u001B[0;32m   1608\u001B[0m \u001B[38;5;28;01mexcept\u001B[39;00m \u001B[38;5;167;01mBaseException\u001B[39;00m \u001B[38;5;28;01mas\u001B[39;00m e:\n\u001B[0;32m   1609\u001B[0m     run_manager\u001B[38;5;241m.\u001B[39mon_chain_error(e)\n",
      "File \u001B[1;32mD:\\Program\\anaconda3\\Lib\\site-packages\\langchain_core\\runnables\\config.py:380\u001B[0m, in \u001B[0;36mcall_func_with_variable_args\u001B[1;34m(func, input, config, run_manager, **kwargs)\u001B[0m\n\u001B[0;32m    378\u001B[0m \u001B[38;5;28;01mif\u001B[39;00m run_manager \u001B[38;5;129;01mis\u001B[39;00m \u001B[38;5;129;01mnot\u001B[39;00m \u001B[38;5;28;01mNone\u001B[39;00m \u001B[38;5;129;01mand\u001B[39;00m accepts_run_manager(func):\n\u001B[0;32m    379\u001B[0m     kwargs[\u001B[38;5;124m\"\u001B[39m\u001B[38;5;124mrun_manager\u001B[39m\u001B[38;5;124m\"\u001B[39m] \u001B[38;5;241m=\u001B[39m run_manager\n\u001B[1;32m--> 380\u001B[0m \u001B[38;5;28;01mreturn\u001B[39;00m func(\u001B[38;5;28minput\u001B[39m, \u001B[38;5;241m*\u001B[39m\u001B[38;5;241m*\u001B[39mkwargs)\n",
      "File \u001B[1;32mD:\\Program\\anaconda3\\Lib\\site-packages\\langchain_core\\output_parsers\\base.py:170\u001B[0m, in \u001B[0;36mBaseOutputParser.invoke.<locals>.<lambda>\u001B[1;34m(inner_input)\u001B[0m\n\u001B[0;32m    165\u001B[0m \u001B[38;5;28;01mdef\u001B[39;00m \u001B[38;5;21minvoke\u001B[39m(\n\u001B[0;32m    166\u001B[0m     \u001B[38;5;28mself\u001B[39m, \u001B[38;5;28minput\u001B[39m: Union[\u001B[38;5;28mstr\u001B[39m, BaseMessage], config: Optional[RunnableConfig] \u001B[38;5;241m=\u001B[39m \u001B[38;5;28;01mNone\u001B[39;00m\n\u001B[0;32m    167\u001B[0m ) \u001B[38;5;241m-\u001B[39m\u001B[38;5;241m>\u001B[39m T:\n\u001B[0;32m    168\u001B[0m     \u001B[38;5;28;01mif\u001B[39;00m \u001B[38;5;28misinstance\u001B[39m(\u001B[38;5;28minput\u001B[39m, BaseMessage):\n\u001B[0;32m    169\u001B[0m         \u001B[38;5;28;01mreturn\u001B[39;00m \u001B[38;5;28mself\u001B[39m\u001B[38;5;241m.\u001B[39m_call_with_config(\n\u001B[1;32m--> 170\u001B[0m             \u001B[38;5;28;01mlambda\u001B[39;00m inner_input: \u001B[38;5;28mself\u001B[39m\u001B[38;5;241m.\u001B[39mparse_result(\n\u001B[0;32m    171\u001B[0m                 [ChatGeneration(message\u001B[38;5;241m=\u001B[39minner_input)]\n\u001B[0;32m    172\u001B[0m             ),\n\u001B[0;32m    173\u001B[0m             \u001B[38;5;28minput\u001B[39m,\n\u001B[0;32m    174\u001B[0m             config,\n\u001B[0;32m    175\u001B[0m             run_type\u001B[38;5;241m=\u001B[39m\u001B[38;5;124m\"\u001B[39m\u001B[38;5;124mparser\u001B[39m\u001B[38;5;124m\"\u001B[39m,\n\u001B[0;32m    176\u001B[0m         )\n\u001B[0;32m    177\u001B[0m     \u001B[38;5;28;01melse\u001B[39;00m:\n\u001B[0;32m    178\u001B[0m         \u001B[38;5;28;01mreturn\u001B[39;00m \u001B[38;5;28mself\u001B[39m\u001B[38;5;241m.\u001B[39m_call_with_config(\n\u001B[0;32m    179\u001B[0m             \u001B[38;5;28;01mlambda\u001B[39;00m inner_input: \u001B[38;5;28mself\u001B[39m\u001B[38;5;241m.\u001B[39mparse_result([Generation(text\u001B[38;5;241m=\u001B[39minner_input)]),\n\u001B[0;32m    180\u001B[0m             \u001B[38;5;28minput\u001B[39m,\n\u001B[0;32m    181\u001B[0m             config,\n\u001B[0;32m    182\u001B[0m             run_type\u001B[38;5;241m=\u001B[39m\u001B[38;5;124m\"\u001B[39m\u001B[38;5;124mparser\u001B[39m\u001B[38;5;124m\"\u001B[39m,\n\u001B[0;32m    183\u001B[0m         )\n",
      "File \u001B[1;32mD:\\Program\\anaconda3\\Lib\\site-packages\\langchain_core\\output_parsers\\json.py:69\u001B[0m, in \u001B[0;36mJsonOutputParser.parse_result\u001B[1;34m(self, result, partial)\u001B[0m\n\u001B[0;32m     67\u001B[0m \u001B[38;5;28;01mexcept\u001B[39;00m JSONDecodeError \u001B[38;5;28;01mas\u001B[39;00m e:\n\u001B[0;32m     68\u001B[0m     msg \u001B[38;5;241m=\u001B[39m \u001B[38;5;124mf\u001B[39m\u001B[38;5;124m\"\u001B[39m\u001B[38;5;124mInvalid json output: \u001B[39m\u001B[38;5;132;01m{\u001B[39;00mtext\u001B[38;5;132;01m}\u001B[39;00m\u001B[38;5;124m\"\u001B[39m\n\u001B[1;32m---> 69\u001B[0m     \u001B[38;5;28;01mraise\u001B[39;00m OutputParserException(msg, llm_output\u001B[38;5;241m=\u001B[39mtext) \u001B[38;5;28;01mfrom\u001B[39;00m \u001B[38;5;21;01me\u001B[39;00m\n",
      "\u001B[1;31mOutputParserException\u001B[0m: Invalid json output: ```json\n[\n    {\n        \"name\": \"add\",\n        \"arguments\": {\"first_int\": 3, \"second_int\": 5}\n    },\n    {\n        \"name\": \"divide\",\n        \"arguments\": {\"first_int\": 8, \"second_int\": 2}\n    },\n    {\n        \"name\": \"multiply\",\n        \"arguments\": {\"first_int\": result_from_divide, \"second_int\": 8}\n    }\n]\n```\n请计算`result_from_divide`后继续执行。"
     ]
    }
   ],
   "source": [
    "chain_.invoke(\"3加上5，除以2，乘以8\")"
   ],
   "metadata": {
    "collapsed": false,
    "ExecuteTime": {
     "end_time": "2024-07-15T09:15:25.692035Z",
     "start_time": "2024-07-15T09:15:20.269557Z"
    }
   },
   "id": "a35dc1661d41c959",
   "execution_count": 34
  },
  {
   "cell_type": "code",
   "outputs": [
    {
     "data": {
      "text/plain": "1237"
     },
     "execution_count": 16,
     "metadata": {},
     "output_type": "execute_result"
    }
   ],
   "source": [
    "from operator import itemgetter\n",
    "\n",
    "\n",
    "# 从工具列表中根据模型输出model_output的name属性选取tool对象\n",
    "# 但是一次只会选取一个，属于单工具调用\n",
    "def tool_chain(model_output):\n",
    "    tool_map = {tool.name: tool for tool in tools}\n",
    "    chosen_tool = tool_map[model_output[\"name\"]]\n",
    "    return itemgetter(\"arguments\") | chosen_tool\n",
    "\n",
    "\n",
    "chain = prompt | model | JsonOutputParser() | tool_chain\n",
    "chain.invoke({\"input\": \"3加上1234等于几？\"})"
   ],
   "metadata": {
    "collapsed": false,
    "ExecuteTime": {
     "end_time": "2024-07-15T08:33:49.036435Z",
     "start_time": "2024-07-15T08:33:47.205799Z"
    }
   },
   "id": "c6e8ea27c9d5d2f8",
   "execution_count": 16
  },
  {
   "cell_type": "markdown",
   "source": [
    "### 定义多工具同时调用的方法"
   ],
   "metadata": {
    "collapsed": false
   },
   "id": "bfb15c4f47b61322"
  },
  {
   "cell_type": "code",
   "outputs": [],
   "source": [
    "from typing import Union\n",
    "from langchain_core.runnables import (\n",
    "    Runnable,\n",
    "    RunnablePassthrough,\n",
    "    RunnableLambda,\n",
    "    RunnableMap\n",
    ")\n",
    "\n",
    "tool_map = {tool.name: tool for tool in tools}\n",
    "\n",
    "\n",
    "def call_tool(tool_invocation: dict) -> Union[str, Runnable]:\n",
    "    \"\"\"Function for dynamically constructing the end of the chain based on the model-selected tool.\"\"\"\n",
    "    tool = tool_map[tool_invocation[\"name\"]]\n",
    "    return RunnablePassthrough.assign(output=itemgetter(\"arguments\") | tool)\n",
    "\n",
    "\n",
    "call_tool_list = RunnableLambda(call_tool).map()"
   ],
   "metadata": {
    "collapsed": false,
    "ExecuteTime": {
     "end_time": "2024-07-15T08:49:01.874018Z",
     "start_time": "2024-07-15T08:49:01.868806Z"
    }
   },
   "id": "2bb139704a02426f",
   "execution_count": 19
  },
  {
   "cell_type": "code",
   "outputs": [],
   "source": [
    "from langchain_core.runnables import RunnablePassthrough\n",
    "\n",
    "chain0 = {\"input\": RunnablePassthrough()} | prompt | model | JsonOutputParser() | call_tool_list\n"
   ],
   "metadata": {
    "collapsed": false,
    "ExecuteTime": {
     "end_time": "2024-07-15T08:49:06.020408Z",
     "start_time": "2024-07-15T08:49:06.015396Z"
    }
   },
   "id": "cea4f51629ab705b",
   "execution_count": 20
  },
  {
   "cell_type": "code",
   "outputs": [
    {
     "name": "stdout",
     "output_type": "stream",
     "text": [
      "2024-7-16\n"
     ]
    },
    {
     "data": {
      "text/plain": "[{'name': 'add',\n  'arguments': {'first_int': 3, 'second_int': 1234},\n  'output': 1237},\n {'name': 'wannianli',\n  'arguments': {'date': '2024-07-16'},\n  'output': {'reason': 'Success',\n   'result': {'data': {'animalsYear': '龙',\n     'weekday': '星期二',\n     'lunarYear': '甲辰年',\n     'lunar': '六月十一',\n     'year-month': '2024-7',\n     'date': '2024-7-16',\n     'suit': '理发.开业.祈福.祭祀.牧养.开光.求子',\n     'avoid': '结婚.出行.搬新房.安葬.作灶.入殓.成人礼.上梁',\n     'holiday': '',\n     'desc': ''}},\n   'error_code': 0}},\n {'name': 'tianqi',\n  'arguments': {'city': '杭州'},\n  'output': {'reason': '查询成功!',\n   'result': {'city': '杭州',\n    'realtime': {'temperature': '34',\n     'humidity': '63',\n     'info': '阴',\n     'wid': '02',\n     'direct': '南风',\n     'power': '2级',\n     'aqi': '49'},\n    'future': [{'date': '2024-07-15',\n      'temperature': '26/34℃',\n      'weather': '雷阵雨',\n      'wid': {'day': '04', 'night': '04'},\n      'direct': '西南风'},\n     {'date': '2024-07-16',\n      'temperature': '27/37℃',\n      'weather': '晴',\n      'wid': {'day': '00', 'night': '00'},\n      'direct': '南风'},\n     {'date': '2024-07-17',\n      'temperature': '27/38℃',\n      'weather': '雷阵雨转晴',\n      'wid': {'day': '04', 'night': '00'},\n      'direct': '西南风'},\n     {'date': '2024-07-18',\n      'temperature': '27/38℃',\n      'weather': '晴转雷阵雨',\n      'wid': {'day': '00', 'night': '04'},\n      'direct': '西南风转持续无风向'},\n     {'date': '2024-07-19',\n      'temperature': '28/39℃',\n      'weather': '晴转雷阵雨',\n      'wid': {'day': '00', 'night': '04'},\n      'direct': '西南风转南风'}]},\n   'error_code': 0}}]"
     },
     "execution_count": 21,
     "metadata": {},
     "output_type": "execute_result"
    }
   ],
   "source": [
    "chain0.invoke({\"input\": \"3加上1234等于几？明天是农历几号，杭州天气怎样\"})"
   ],
   "metadata": {
    "collapsed": false,
    "ExecuteTime": {
     "end_time": "2024-07-15T08:49:32.279559Z",
     "start_time": "2024-07-15T08:49:27.952459Z"
    }
   },
   "id": "d849b538d930ef50",
   "execution_count": 21
  },
  {
   "cell_type": "code",
   "outputs": [],
   "source": [
    "template_nature_language = \"\"\"根据下面问题和json格式的响应，编写一个针对此问题自然语言回应：\n",
    "问题：{question}\n",
    "响应：{response}\"\"\"\n",
    "prompt_response_nl = ChatPromptTemplate.from_template(template_nature_language)\n",
    "chain1 = {\"question\": RunnablePassthrough(), \"response\": chain0} | prompt_response_nl | model | StrOutputParser()\n"
   ],
   "metadata": {
    "collapsed": false,
    "ExecuteTime": {
     "end_time": "2024-07-15T08:52:59.776916Z",
     "start_time": "2024-07-15T08:52:59.772434Z"
    }
   },
   "id": "f8c42d3235346b72",
   "execution_count": 22
  },
  {
   "cell_type": "code",
   "outputs": [
    {
     "name": "stdout",
     "output_type": "stream",
     "text": [
      "2024-7-16\n"
     ]
    },
    {
     "data": {
      "text/plain": "'3加1234等于1237。明天是2024年7月16日，农历为六月十一，属龙，星期二，适宜理发、开业、祈福、祭祀等活动，但需避免结婚、出行等。杭州明天的天气预报显示，白天有雷阵雨，气温27到37摄氏度，南风2级；后几天也是晴天或雷阵雨交替，温度在27到38摄氏度左右。'"
     },
     "execution_count": 23,
     "metadata": {},
     "output_type": "execute_result"
    }
   ],
   "source": [
    "chain1.invoke({\"input\": \"3加上1234等于几？明天是农历几号，杭州天气怎样\"})"
   ],
   "metadata": {
    "collapsed": false,
    "ExecuteTime": {
     "end_time": "2024-07-15T08:53:19.718708Z",
     "start_time": "2024-07-15T08:53:10.052629Z"
    }
   },
   "id": "4b38a0396f76afe5",
   "execution_count": 23
  },
  {
   "cell_type": "code",
   "outputs": [
    {
     "data": {
      "text/plain": "{'name': 'add', 'arguments': {'first_int': 3, 'second_int': 5}}"
     },
     "execution_count": 24,
     "metadata": {},
     "output_type": "execute_result"
    }
   ],
   "source": [
    "chain_.invoke({\"input\": \"3加上5，除以2，乘以8\"})"
   ],
   "metadata": {
    "collapsed": false,
    "ExecuteTime": {
     "end_time": "2024-07-15T08:58:15.756466Z",
     "start_time": "2024-07-15T08:58:12.567863Z"
    }
   },
   "id": "a2b782baf009d95a",
   "execution_count": 24
  },
  {
   "cell_type": "code",
   "outputs": [],
   "source": [],
   "metadata": {
    "collapsed": false
   },
   "id": "cde82bb82bd141cb"
  }
 ],
 "metadata": {
  "kernelspec": {
   "display_name": "Python 3",
   "language": "python",
   "name": "python3"
  },
  "language_info": {
   "codemirror_mode": {
    "name": "ipython",
    "version": 2
   },
   "file_extension": ".py",
   "mimetype": "text/x-python",
   "name": "python",
   "nbconvert_exporter": "python",
   "pygments_lexer": "ipython2",
   "version": "2.7.6"
  }
 },
 "nbformat": 4,
 "nbformat_minor": 5
}
